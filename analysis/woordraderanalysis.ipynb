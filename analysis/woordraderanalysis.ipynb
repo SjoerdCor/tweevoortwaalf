{
 "cells": [
  {
   "cell_type": "markdown",
   "metadata": {},
   "source": [
    "# Analyse how well we're doing guessing words\n",
    "What tactics are working, am I improving, when is it difficult, etc."
   ]
  },
  {
   "cell_type": "code",
   "execution_count": null,
   "metadata": {},
   "outputs": [],
   "source": [
    "import os\n",
    "\n",
    "import pandas as pd\n",
    "from dotenv import load_dotenv\n",
    "from sqlalchemy import create_engine"
   ]
  },
  {
   "cell_type": "code",
   "execution_count": null,
   "metadata": {},
   "outputs": [],
   "source": [
    "load_dotenv()\n",
    "PLAYERNAME = os.getenv('playername')"
   ]
  },
  {
   "cell_type": "code",
   "execution_count": null,
   "metadata": {},
   "outputs": [],
   "source": [
    "database_url = os.getenv('PROD_DATABASE_URL').replace('postgresql', 'postgresql+psycopg')\n",
    "engine = create_engine(database_url)"
   ]
  },
  {
   "cell_type": "code",
   "execution_count": null,
   "metadata": {},
   "outputs": [],
   "source": [
    "database_url_dev = os.getenv('DATABASE_URL').replace('postgresql', 'postgresql+psycopg')\n",
    "engine_dev = create_engine(database_url_dev)"
   ]
  },
  {
   "cell_type": "code",
   "execution_count": null,
   "metadata": {},
   "outputs": [],
   "source": [
    "with engine.connect() as conn:\n",
    "    games = pd.read_sql_query('SELECT * FROM woordrader.games', con=conn, index_col='game_id')\n",
    "    positions = pd.read_sql_query('SELECT * FROM woordrader.shownletters', con=conn, index_col='letterplacement_id')\n",
    "    boughtletters = pd.read_sql_query('SELECT * FROM woordrader.boughtletters', con=conn, index_col='buyevent_id')\n",
    "    guesses = pd.read_sql_query('SELECT * FROM woordrader.guesses', con=conn, index_col='guess_id')"
   ]
  },
  {
   "cell_type": "code",
   "execution_count": null,
   "metadata": {},
   "outputs": [],
   "source": [
    "position_relevant = (positions\n",
    "                     .groupby('game_id')\n",
    "                     .agg(LettersCorrect = pd.NamedAgg('correct', 'sum'),\n",
    "                          LettersUnknown = pd.NamedAgg('shown_letter', lambda s: (s == '-').sum()),\n",
    "                          )\n",
    "                     )\n",
    "buyevents_relevant = boughtletters.groupby('game_id').size().rename('LettersBought')\n",
    "guesses_relevant = (guesses.set_index('game_id')\n",
    "                    .rename(columns={'correct': 'GuessCorrect'})\n",
    "                    [['guess_time', 'GuessCorrect']]\n",
    "                    )                           \n",
    "df = (games\n",
    "      .join(position_relevant)\n",
    "      .join(buyevents_relevant)\n",
    "      .join(guesses_relevant, how='inner')\n",
    "      .query('playername == @PLAYERNAME')\n",
    "      )\n",
    "df"
   ]
  }
 ],
 "metadata": {
  "kernelspec": {
   "display_name": "tweevoortwaalf",
   "language": "python",
   "name": "python3"
  },
  "language_info": {
   "codemirror_mode": {
    "name": "ipython",
    "version": 3
   },
   "file_extension": ".py",
   "mimetype": "text/x-python",
   "name": "python",
   "nbconvert_exporter": "python",
   "pygments_lexer": "ipython3",
   "version": "3.11.9"
  }
 },
 "nbformat": 4,
 "nbformat_minor": 2
}
