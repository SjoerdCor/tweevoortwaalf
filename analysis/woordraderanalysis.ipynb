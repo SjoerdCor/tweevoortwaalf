{
 "cells": [
  {
   "cell_type": "markdown",
   "metadata": {},
   "source": [
    "# Analyse how well we're doing guessing words\n",
    "What tactics are working, am I improving, when is it difficult, etc."
   ]
  },
  {
   "cell_type": "code",
   "execution_count": null,
   "metadata": {},
   "outputs": [],
   "source": [
    "import os\n",
    "import random\n",
    "\n",
    "import pandas as pd\n",
    "from dotenv import load_dotenv\n",
    "from sqlalchemy import create_engine\n",
    "from sklearn.linear_model import LinearRegression"
   ]
  },
  {
   "cell_type": "code",
   "execution_count": null,
   "metadata": {},
   "outputs": [],
   "source": [
    "load_dotenv()\n",
    "PLAYERNAME = os.getenv(\"playername\")"
   ]
  },
  {
   "cell_type": "code",
   "execution_count": null,
   "metadata": {},
   "outputs": [],
   "source": [
    "database_url = os.getenv(\"PROD_DATABASE_URL\").replace(\n",
    "    \"postgresql\", \"postgresql+psycopg\"\n",
    ")\n",
    "\n",
    "engine = create_engine(database_url)"
   ]
  },
  {
   "cell_type": "markdown",
   "metadata": {},
   "source": [
    "# Data preparation"
   ]
  },
  {
   "cell_type": "code",
   "execution_count": null,
   "metadata": {},
   "outputs": [],
   "source": [
    "with engine.connect() as conn:\n",
    "    games = pd.read_sql_query(\n",
    "        \"SELECT * FROM woordrader.games\", con=conn, index_col=\"game_id\"\n",
    "    )\n",
    "    positions = pd.read_sql_query(\n",
    "        \"SELECT * FROM woordrader.shownletters\",\n",
    "        con=conn,\n",
    "        index_col=\"letterplacement_id\",\n",
    "    )\n",
    "    boughtletters = pd.read_sql_query(\n",
    "        \"SELECT * FROM woordrader.boughtletters\", con=conn, index_col=\"buyevent_id\"\n",
    "    )\n",
    "    guesses = pd.read_sql_query(\n",
    "        \"SELECT * FROM woordrader.guesses\", con=conn, index_col=\"guess_id\"\n",
    "    )"
   ]
  },
  {
   "cell_type": "code",
   "execution_count": null,
   "metadata": {},
   "outputs": [],
   "source": [
    "position_relevant = positions.groupby(\"game_id\").agg(\n",
    "    LettersCorrect=pd.NamedAgg(\"correct\", \"sum\"),\n",
    "    LettersUnknown=pd.NamedAgg(\"shown_letter\", lambda s: (s == \"-\").sum()),\n",
    ")\n",
    "buyevents_relevant = boughtletters.groupby(\"game_id\").size().rename(\"LettersBought\")\n",
    "guesses_relevant = guesses.set_index(\"game_id\").rename(\n",
    "    columns={\"correct\": \"GuessCorrect\"}\n",
    ")[[\"guess_time\", \"GuessCorrect\"]]\n",
    "df = (\n",
    "    games.join(position_relevant)\n",
    "    .join(buyevents_relevant)\n",
    "    .join(guesses_relevant, how=\"inner\")\n",
    "    .query(\"playername == @PLAYERNAME\")\n",
    "    .fillna({\"LettersBought\": 0})\n",
    "    .astype({\"LettersBought\": int, \"LettersCorrect\": int, \"LettersUnknown\": int})\n",
    "    .assign(\n",
    "        LettersBought=lambda df: df[\"LettersBought\"].mask(\n",
    "            ~df[\"GuessCorrect\"], df[\"LettersBought\"].max()\n",
    "        ),\n",
    "        LettersWrong=lambda df: 12 - df[\"LettersCorrect\"] - df[\"LettersUnknown\"],\n",
    "    )\n",
    ")\n",
    "df"
   ]
  },
  {
   "cell_type": "markdown",
   "metadata": {},
   "source": [
    "# Analysis\n",
    "## Checking the puzzles"
   ]
  },
  {
   "cell_type": "code",
   "execution_count": null,
   "metadata": {},
   "outputs": [],
   "source": [
    "df[[\"LettersUnknown\", \"LettersWrong\"]].corr()"
   ]
  },
  {
   "cell_type": "code",
   "execution_count": null,
   "metadata": {},
   "outputs": [],
   "source": [
    "df[\"LettersCorrect\"].value_counts(normalize=True).sort_index()"
   ]
  },
  {
   "cell_type": "code",
   "execution_count": null,
   "metadata": {},
   "outputs": [],
   "source": [
    "pd.Series([random.binomialvariate(12, 0.95) for _ in range(1_000_000)]).value_counts(\n",
    "\n",
    "    normalize=True\n",
    "\n",
    ").sort_index()"
   ]
  },
  {
   "cell_type": "markdown",
   "metadata": {},
   "source": [
    "## Checking how well it is played"
   ]
  },
  {
   "cell_type": "code",
   "execution_count": null,
   "metadata": {},
   "outputs": [],
   "source": [
    "df[\"GuessCorrect\"].value_counts(normalize=True)"
   ]
  },
  {
   "cell_type": "code",
   "execution_count": null,
   "metadata": {},
   "outputs": [],
   "source": [
    "df[\"LettersBought\"].hist()\n",
    "display(df[\"LettersBought\"].describe())"
   ]
  },
  {
   "cell_type": "markdown",
   "metadata": {},
   "source": [
    "## Explanation"
   ]
  },
  {
   "cell_type": "code",
   "execution_count": null,
   "metadata": {},
   "outputs": [],
   "source": [
    "df[\"LettersBought\"].rolling(20).mean().plot(ylim=(0, None))"
   ]
  },
  {
   "cell_type": "code",
   "execution_count": null,
   "metadata": {},
   "outputs": [],
   "source": [
    "df.groupby(\"LettersCorrect\")[\"LettersBought\"].describe()"
   ]
  },
  {
   "cell_type": "code",
   "execution_count": null,
   "metadata": {},
   "outputs": [],
   "source": [
    "df.groupby(\"LettersCorrect\")[\"LettersBought\"].value_counts(\n",
    "    normalize=True\n",
    ").unstack().fillna(0).style.format(\"{:.1%}\")"
   ]
  },
  {
   "cell_type": "code",
   "execution_count": null,
   "metadata": {},
   "outputs": [],
   "source": [
    "lr = LinearRegression()\n",
    "lr.fit(\n",
    "    df.reset_index()[[\"game_id\", \"LettersUnknown\", \"LettersWrong\"]], df[\"LettersBought\"]\n",
    ")"
   ]
  },
  {
   "cell_type": "code",
   "execution_count": null,
   "metadata": {},
   "outputs": [],
   "source": [
    "lr.intercept_, lr.coef_"
   ]
  }
 ],
 "metadata": {
  "kernelspec": {
   "display_name": "tweevoortwaalf",
   "language": "python",
   "name": "python3"
  },
  "language_info": {
   "codemirror_mode": {
    "name": "ipython",
    "version": 3
   },
   "file_extension": ".py",
   "mimetype": "text/x-python",
   "name": "python",
   "nbconvert_exporter": "python",
   "pygments_lexer": "ipython3",
   "version": "3.12.4"
  }
 },
 "nbformat": 4,
 "nbformat_minor": 2
}
