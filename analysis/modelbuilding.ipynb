{
 "cells": [
  {
   "cell_type": "code",
   "execution_count": null,
   "metadata": {},
   "outputs": [],
   "source": [
    "from dotenv import load_dotenv\n",
    "import os\n",
    "\n",
    "from explainerdashboard import ClassifierExplainer, ExplainerDashboard\n",
    "import pandas as pd\n",
    "from sklearn.model_selection import train_test_split\n",
    "import sklearn.metrics\n",
    "from sqlalchemy import create_engine\n",
    "\n",
    "import modelbuilderpaardensprong"
   ]
  },
  {
   "cell_type": "code",
   "execution_count": null,
   "metadata": {},
   "outputs": [],
   "source": [
    "load_dotenv()\n",
    "\n",
    "PLAYERNAME = os.getenv('playername')\n",
    "\n",
    "database_url_prod = os.getenv('PROD_DATABASE_URL').replace('postgresql', 'postgresql+psycopg')\n",
    "engine_prod = create_engine(database_url_prod)\n",
    "\n",
    "database_url_dev = os.getenv('DATABASE_URL').replace('postgresql', 'postgresql+psycopg')\n",
    "engine_dev = create_engine(database_url_dev)"
   ]
  },
  {
   "cell_type": "code",
   "execution_count": null,
   "metadata": {},
   "outputs": [],
   "source": [
    "with engine_prod.connect() as conn:\n",
    "    games = pd.read_sql_query('SELECT * FROM paardensprong.games', con=conn, index_col='game_id')\n",
    "    guesses = pd.read_sql_query('SELECT * FROM paardensprong.guesses', con=conn, index_col='guess_id')\n",
    "\n",
    "guesses_relevant = (guesses.set_index('game_id')\n",
    "                    .rename(columns={'correct': 'GuessCorrect'})\n",
    "                    [['guess_time', 'GuessCorrect']]\n",
    "                    )                           \n",
    "\n",
    "df = (games\n",
    "      # Drop games which have no guess - probably time out because of long loading times\n",
    "      .join(guesses_relevant, how='inner')\n",
    "      .query('playername == @PLAYERNAME')\n",
    "      .assign(PuzzleTimeSec = lambda df: (df['guess_time'] - df['start_time']).dt.seconds,\n",
    "              # The on time is a bit strict; since you need a few seconds typing time\n",
    "              # But that's on purpose: it makes sense to train to have a bit of spare time\n",
    "              # And it helps the model since you have just a few more unsuccessfulls to train on\n",
    "              OnTime = lambda df: df['PuzzleTimeSec'].lt(30),\n",
    "              Success = lambda df: df['GuessCorrect'] & df['OnTime'],\n",
    "              )\n",
    "      # A few answers were given extremely late; probably when reconnecting\n",
    "      .query('PuzzleTimeSec < 120')\n",
    "      )"
   ]
  },
  {
   "cell_type": "code",
   "execution_count": null,
   "metadata": {},
   "outputs": [],
   "source": [
    "X = (df[['answer', 'startpoint', 'direction', 'Success']])\n",
    "y = X.pop('Success').astype(int)\n",
    "X_train, X_test, y_train, y_test = train_test_split(X, y, stratify=y, random_state=42)\n",
    "X_train = X_train.reset_index(drop=True)\n",
    "X_test = X_test.reset_index(drop=True)"
   ]
  },
  {
   "cell_type": "code",
   "execution_count": null,
   "metadata": {},
   "outputs": [],
   "source": [
    "pipe = modelbuilderpaardensprong.pipe\n",
    "pipe.fit(X_train, y_train)"
   ]
  },
  {
   "cell_type": "code",
   "execution_count": null,
   "metadata": {},
   "outputs": [],
   "source": [
    "y_pred_proba = pipe.predict_proba(X_test)\n",
    "print(sklearn.metrics.log_loss(y_test, y_pred_proba[:, -1]))\n",
    "explainer = ClassifierExplainer(pipe, X_test, y_test)\n",
    "ExplainerDashboard(explainer).run(port=8051)"
   ]
  },
  {
   "cell_type": "markdown",
   "metadata": {},
   "source": [
    "# Using the model"
   ]
  },
  {
   "cell_type": "code",
   "execution_count": null,
   "metadata": {},
   "outputs": [],
   "source": [
    "from tweevoortwaalf.paardensprong import Paardensprong"
   ]
  },
  {
   "cell_type": "code",
   "execution_count": null,
   "metadata": {},
   "outputs": [],
   "source": [
    "puzzleoptions = []\n",
    "for _ in range(1000):\n",
    "    ps = Paardensprong()\n",
    "    if ps.unique_solution():\n",
    "        puzzleoptions.append({'answer': ps.answer, 'startpoint': ps.startpoint, 'direction': ps.direction})\n",
    "    else:\n",
    "        print(ps.answer)\n",
    "X_new = pd.DataFrame(puzzleoptions)"
   ]
  },
  {
   "cell_type": "code",
   "execution_count": null,
   "metadata": {},
   "outputs": [],
   "source": [
    "y_pred = pipe.predict_proba(X_new)\n",
    "X_new['probability'] = y_pred[:, 0]"
   ]
  },
  {
   "cell_type": "code",
   "execution_count": null,
   "metadata": {},
   "outputs": [],
   "source": [
    "with engine_dev.connect() as conn:\n",
    "    X_new.to_sql('puzzleoptions', con=conn, schema='paardensprong', if_exists='replace', index=False, method='multi')\n",
    "    conn.commit()"
   ]
  },
  {
   "cell_type": "code",
   "execution_count": null,
   "metadata": {},
   "outputs": [],
   "source": [
    "with engine_prod.connect() as conn:\n",
    "    X_new.to_sql('puzzleoptions', con=conn, schema='paardensprong', if_exists='replace', index=False, method='multi')\n",
    "    conn.commit()"
   ]
  },
  {
   "cell_type": "markdown",
   "metadata": {},
   "source": [
    "# Check outcomes"
   ]
  },
  {
   "cell_type": "code",
   "execution_count": null,
   "metadata": {},
   "outputs": [],
   "source": [
    "from matplotlib import pyplot as plt\n",
    "import numpy as np"
   ]
  },
  {
   "cell_type": "code",
   "execution_count": null,
   "metadata": {},
   "outputs": [],
   "source": [
    "with engine_dev.connect() as conn:\n",
    "    puzzleoptions = pd.read_sql_query('SELECT * FROM paardensprong.puzzleoptions', con=conn)\n",
    "def probability_option(p):\n",
    "    return p - p**2\n",
    "p = probability_option(puzzleoptions['probability'])\n",
    "puzzleoptions.sample(weights=p).squeeze()"
   ]
  },
  {
   "cell_type": "code",
   "execution_count": null,
   "metadata": {},
   "outputs": [],
   "source": [
    "p = np.linspace(0, 1, 100)\n",
    "\n",
    "def probability_option(p):\n",
    "    return p - p**2\n",
    "y = probability_option(p)\n",
    "\n",
    "plt.plot(p, y)"
   ]
  },
  {
   "cell_type": "code",
   "execution_count": null,
   "metadata": {},
   "outputs": [],
   "source": [
    "one_row = X_new.nlargest(10, 'probability').sample(1).squeeze()\n",
    "ps_now = Paardensprong(answer=one_row['answer'], direction=one_row['direction'], startpoint=one_row['direction'])\n",
    "puzzle = ps_now.create_puzzle()\n",
    "ps_now.show_puzzle(puzzle)"
   ]
  }
 ],
 "metadata": {
  "kernelspec": {
   "display_name": "tweevoortwaalf",
   "language": "python",
   "name": "python3"
  },
  "language_info": {
   "codemirror_mode": {
    "name": "ipython",
    "version": 3
   },
   "file_extension": ".py",
   "mimetype": "text/x-python",
   "name": "python",
   "nbconvert_exporter": "python",
   "pygments_lexer": "ipython3",
   "version": "3.12.4"
  }
 },
 "nbformat": 4,
 "nbformat_minor": 2
}
